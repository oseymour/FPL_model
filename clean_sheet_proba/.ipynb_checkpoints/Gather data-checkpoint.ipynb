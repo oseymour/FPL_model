{
 "cells": [
  {
   "cell_type": "code",
   "execution_count": 1,
   "id": "c70f760b",
   "metadata": {},
   "outputs": [],
   "source": [
    "import sys\n",
    "sys.path.insert(0, '../../ScraperFC')\n",
    "import ScraperFC as sfc\n",
    "\n",
    "from selenium.webdriver.chrome.service import Service as ChromeService\n",
    "from selenium.webdriver.chrome.options import Options\n",
    "from selenium import webdriver\n",
    "from webdriver_manager.chrome import ChromeDriverManager\n",
    "from selenium.webdriver.common.by import By\n",
    "\n",
    "import traceback\n",
    "import pandas as pd\n",
    "from bs4 import BeautifulSoup\n",
    "import time\n",
    "import numpy as np"
   ]
  },
  {
   "cell_type": "markdown",
   "id": "80034493",
   "metadata": {},
   "source": [
    "# Scrape historic FPL data"
   ]
  },
  {
   "cell_type": "code",
   "execution_count": 2,
   "id": "64e8dc1b",
   "metadata": {},
   "outputs": [
    {
     "name": "stderr",
     "output_type": "stream",
     "text": [
      "[WDM] - \n",
      "\n",
      "[WDM] - ====== WebDriver manager ======\n",
      "[WDM] - Current google-chrome version is 105.0.5195\n",
      "[WDM] - Get LATEST driver version for 105.0.5195\n",
      "[WDM] - Driver [C:\\Users\\Owner\\.wdm\\drivers\\chromedriver\\win32\\105.0.5195.52\\chromedriver.exe] found in cache\n"
     ]
    }
   ],
   "source": [
    "options = Options()\n",
    "# options.headless = True\n",
    "prefs = {'profile.managed_default_content_settings.images': 2} # don't load images\n",
    "options.add_experimental_option('prefs', prefs)\n",
    "driver = webdriver.Chrome(\n",
    "    service=ChromeService(ChromeDriverManager().install()),\n",
    "    options=options\n",
    ")"
   ]
  },
  {
   "cell_type": "code",
   "execution_count": 113,
   "id": "5d35ded2",
   "metadata": {},
   "outputs": [],
   "source": [
    "year = 2022\n",
    "\n",
    "driver.get('https://www.fantasynutmeg.com/history')\n",
    "time.sleep(2)\n",
    "\n",
    "#### Load data for the season ####\n",
    "# select the season from the dropdown\n",
    "soup = BeautifulSoup(driver.page_source, 'html.parser')\n",
    "season_option_tag = soup.find('select').find('option', {'label': f'{year-1}-{str(year)[-2:]}'})\n",
    "driver.find_element(By.XPATH, sfc.xpath_soup(season_option_tag)).click()\n",
    "\n",
    "# click the update button to update the table\n",
    "update_button_tag = soup.find('button', {'ng-click': 'loadHistory()'})\n",
    "driver.find_element(By.XPATH, sfc.xpath_soup(update_button_tag)).click()\n",
    "\n",
    "time.sleep(2)"
   ]
  },
  {
   "cell_type": "code",
   "execution_count": 114,
   "id": "5e01ada8",
   "metadata": {
    "scrolled": true
   },
   "outputs": [
    {
     "ename": "KeyboardInterrupt",
     "evalue": "",
     "output_type": "error",
     "traceback": [
      "\u001b[1;31m---------------------------------------------------------------------------\u001b[0m",
      "\u001b[1;31mKeyboardInterrupt\u001b[0m                         Traceback (most recent call last)",
      "Input \u001b[1;32mIn [114]\u001b[0m, in \u001b[0;36m<cell line: 5>\u001b[1;34m()\u001b[0m\n\u001b[0;32m     21\u001b[0m cols \u001b[38;5;241m=\u001b[39m player_row\u001b[38;5;241m.\u001b[39mfind_all(\u001b[38;5;124m'\u001b[39m\u001b[38;5;124mdiv\u001b[39m\u001b[38;5;124m'\u001b[39m, {\u001b[38;5;124m'\u001b[39m\u001b[38;5;124mrole\u001b[39m\u001b[38;5;124m'\u001b[39m: \u001b[38;5;124m'\u001b[39m\u001b[38;5;124mgridcell\u001b[39m\u001b[38;5;124m'\u001b[39m})\n\u001b[0;32m     22\u001b[0m driver\u001b[38;5;241m.\u001b[39mfind_element(By\u001b[38;5;241m.\u001b[39mXPATH, sfc\u001b[38;5;241m.\u001b[39mxpath_soup(cols[\u001b[38;5;241m0\u001b[39m]))\u001b[38;5;241m.\u001b[39mclick()\n\u001b[1;32m---> 23\u001b[0m \u001b[43mtime\u001b[49m\u001b[38;5;241;43m.\u001b[39;49m\u001b[43msleep\u001b[49m\u001b[43m(\u001b[49m\u001b[38;5;241;43m5\u001b[39;49m\u001b[43m)\u001b[49m\n\u001b[0;32m     25\u001b[0m \u001b[38;5;66;03m#+++++++++++++++++++++++++++++++++++++++++++++++++++++++++++++++++++++++\u001b[39;00m\n\u001b[0;32m     26\u001b[0m \u001b[38;5;66;03m# Gather player gameweek data\u001b[39;00m\n\u001b[0;32m     27\u001b[0m player_df \u001b[38;5;241m=\u001b[39m pd\u001b[38;5;241m.\u001b[39mDataFrame()\n",
      "\u001b[1;31mKeyboardInterrupt\u001b[0m: "
     ]
    }
   ],
   "source": [
    "################################################################################\n",
    "#### Scroll through all rows ####\n",
    "season_df = pd.DataFrame()\n",
    "season_done = False\n",
    "while not season_done:\n",
    "\n",
    "    player_rows = BeautifulSoup(driver.page_source, 'html.parser')\\\n",
    "        .find('div', {'id': 'ptsTable'})\\\n",
    "        .find_all('div', {'role': 'row'})\n",
    "    \n",
    "    #+++++++++++++++++++++++++++++++++++++++++++++++++++++++++++++++++++++++++++\n",
    "    # Iterate across visible player rows\n",
    "    for player_row in player_rows[1:]:\n",
    "        \n",
    "        # Player info\n",
    "        player_name = player_row.find_all('div', {'role': 'gridcell'})[0].getText()\n",
    "        team = player_row.find_all('div', {'role': 'gridcell'})[1].getText()\n",
    "        position = player_row.find_all('div', {'role': 'gridcell'})[2].getText()\n",
    "        \n",
    "        # Click on player name to get gw data popup\n",
    "        cols = player_row.find_all('div', {'role': 'gridcell'})\n",
    "        driver.find_element(By.XPATH, sfc.xpath_soup(cols[0])).click()\n",
    "        time.sleep(5)\n",
    "        \n",
    "        #+++++++++++++++++++++++++++++++++++++++++++++++++++++++++++++++++++++++\n",
    "        # Gather player gameweek data\n",
    "        player_df = pd.DataFrame()\n",
    "        player_done = False\n",
    "        while not player_done:\n",
    "            \n",
    "            gw_rows = BeautifulSoup(driver.page_source, 'html.parser')\\\n",
    "                .find_all('div', {'role': 'presentation'})[-1]\\\n",
    "                .find_all('div', {'role': 'row'})\n",
    "            \n",
    "            # Scrape visible rows\n",
    "            for gw_row in gw_rows[1:]:\n",
    "                gw_data = np.array([\n",
    "                    tag.getText() \\\n",
    "                    for tag in gw_row.find_all('div', {'role': 'gridcell'})\n",
    "                ]).reshape(1,-1)\n",
    "                gw_df = pd.DataFrame(gw_data)\n",
    "                player_df = pd.concat([player_df, gw_df], axis=0, ignore_index=True)\n",
    "            \n",
    "            # Scroll to last visible gameweek row\n",
    "            og_fixture = BeautifulSoup(driver.page_source, 'html.parser')\\\n",
    "                .find_all('div', {'role': 'presentation'})[-1]\\\n",
    "                .find_all('div', {'role': 'row'})[-1]\\\n",
    "                .find_all('div', {'role': 'gridcell'})[1].getText()\n",
    "            driver.execute_script(\n",
    "                'arguments[0].scrollIntoView();',\n",
    "                driver.find_element(By.XPATH, sfc.xpath_soup(gw_rows[-1]))\n",
    "            )\n",
    "            time.sleep(5)\n",
    "            new_fixture = BeautifulSoup(driver.page_source, 'html.parser')\\\n",
    "                .find_all('div', {'role': 'presentation'})[-1]\\\n",
    "                .find_all('div', {'role': 'row'})[-1]\\\n",
    "                .find_all('div', {'role': 'gridcell'})[1].getText()\n",
    "            if og_fixture == new_fixture:\n",
    "                player_done = True\n",
    "            \n",
    "        # Clean player df\n",
    "        player_df[0] = player_df[0].astype(int)\n",
    "        player_df = player_df.drop_duplicates(ignore_index=True)\n",
    "        player_df = player_df.sort_values(0).reset_index(drop=True)\n",
    "        player_df['Name'] = [player_name,] * 38\n",
    "        player_df['Team'] = [team,] * 38\n",
    "        player_df['Pos'] = [position,] * 38\n",
    "        \n",
    "        # Close player gw popup\n",
    "        driver.find_element(\n",
    "            By.XPATH, \n",
    "            sfc.xpath_soup(\n",
    "                BeautifulSoup(driver.page_source, 'html.parser')\\\n",
    "                    .find('button', {'class': 'close'})\n",
    "            ),\n",
    "        ).click()\n",
    "        time.sleep(5)\n",
    "        \n",
    "        # Update season df\n",
    "        season_df = pd.concat([season_df, player_df], ignore_index=True, axis=0)\n",
    "\n",
    "    #+++++++++++++++++++++++++++++++++++++++++++++++++++++++++++++++++++++++++++\n",
    "    # Scroll to last visible player row\n",
    "    og_first_player = player_rows[1].find('div', {'role': 'gridcell'}).getText()\n",
    "    driver.execute_script(\n",
    "        'arguments[0].scrollIntoView();',\n",
    "        driver.find_element(By.XPATH, sfc.xpath_soup(player_rows[-1]))\n",
    "    )\n",
    "    time.sleep(5)\n",
    "    new_first_player = BeautifulSoup(driver.page_source, 'html.parser')\\\n",
    "        .find('div', {'id': 'ptsTable'})\\\n",
    "        .find_all('div', {'role': 'row'})[1]\\\n",
    "        .find('div', {'role': 'gridcell'}).getText()\n",
    "    \n",
    "    print(og_first_player, new_first_player)\n",
    "    print('-'*80)\n",
    "    \n",
    "    if og_first_player == new_first_player:\n",
    "        season_done = True\n",
    "    \n",
    "# Clean season df\n",
    "season_df.columns = [\n",
    "    'GW', 'Fixture', 'Pts', 'MP', 'GS', 'A', 'CS', 'GC', 'OG', 'PS',\n",
    "    'PM', 'YC', 'RC', 'S', 'B', 'BPS', 'ICT', 'Cost', 'TX_IN', 'TX_OUT',\n",
    "    'Name', 'Team', 'Pos'\n",
    "]"
   ]
  },
  {
   "cell_type": "code",
   "execution_count": null,
   "id": "7e0a4ef3",
   "metadata": {},
   "outputs": [],
   "source": [
    "season_df"
   ]
  },
  {
   "cell_type": "code",
   "execution_count": 115,
   "id": "93fa1776",
   "metadata": {},
   "outputs": [],
   "source": [
    "driver.close()\n",
    "driver.quit()"
   ]
  }
 ],
 "metadata": {
  "kernelspec": {
   "display_name": "Python 3 (ipykernel)",
   "language": "python",
   "name": "python3"
  },
  "language_info": {
   "codemirror_mode": {
    "name": "ipython",
    "version": 3
   },
   "file_extension": ".py",
   "mimetype": "text/x-python",
   "name": "python",
   "nbconvert_exporter": "python",
   "pygments_lexer": "ipython3",
   "version": "3.8.13"
  }
 },
 "nbformat": 4,
 "nbformat_minor": 5
}
