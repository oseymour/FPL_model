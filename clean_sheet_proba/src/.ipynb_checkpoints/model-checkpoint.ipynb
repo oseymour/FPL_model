{
 "cells": [
  {
   "cell_type": "code",
   "execution_count": 1,
   "metadata": {},
   "outputs": [],
   "source": [
    "import pandas as pd\n",
    "import numpy as np\n",
    "from sklearn.model_selection import train_test_split\n",
    "from sklearn.ensemble import GradientBoostingClassifier"
   ]
  },
  {
   "cell_type": "code",
   "execution_count": 3,
   "metadata": {},
   "outputs": [],
   "source": [
    "df = pd.DataFrame()\n",
    "for year in range(2018,2023):\n",
    "    yr_df = pd.read_pickle(f'../data/{year}_matches.pkl') # load df for year\n",
    "\n",
    "    # Add moving averages\n",
    "    teams = np.unique(np.append(yr_df['Home Team'], yr_df['Away Team']))\n",
    "    for team in teams:\n",
    "        team_df = yr_df[(yr_df['Home Team']==team) | (yr_df['Away Team']==team)]\n",
    "        assert team_df.shape[0] == 38\n",
    "        \n",
    "\n",
    "    # df = pd.concat([df, ], ignore_index=True, axis=0)\n",
    "\n",
    "    break"
   ]
  },
  {
   "cell_type": "code",
   "execution_count": 4,
   "metadata": {},
   "outputs": [],
   "source": [
    "for i in yr_df.index:\n",
    "    hteam = yr_df.loc[i,'Home Team']\n",
    "    ateam = yr_df.loc[i,'Away Team']\n",
    "\n",
    "    for key, team in [('Home',hteam), ('Away',ateam)]:\n",
    "        n = 5\n",
    "        team_recent_df = yr_df[(yr_df['Home Team']==team) | (yr_df['Away Team']==team)].iloc[-n-1:-1,:]\n",
    "        team_recent_goals = (\n",
    "            ((team_recent_df['Home Team']==team) * team_recent_df['Home Goals']) \n",
    "            + ((team_recent_df['Away Team']==team) * team_recent_df['Away Goals'])\n",
    "        )\n",
    "        team_recent_xg = (\n",
    "            ((team_recent_df['Home Team']==team) * team_recent_df['Home xG']) \n",
    "            + ((team_recent_df['Away Team']==team) * team_recent_df['Away xG'])\n",
    "        )"
   ]
  },
  {
   "cell_type": "code",
   "execution_count": 5,
   "metadata": {},
   "outputs": [
    {
     "data": {
      "text/plain": [
       "(379, 'Brighton & Hove Albion')"
      ]
     },
     "execution_count": 5,
     "metadata": {},
     "output_type": "execute_result"
    }
   ],
   "source": [
    "i, team"
   ]
  },
  {
   "cell_type": "code",
   "execution_count": 6,
   "metadata": {},
   "outputs": [
    {
     "data": {
      "text/html": [
       "<div>\n",
       "<style scoped>\n",
       "    .dataframe tbody tr th:only-of-type {\n",
       "        vertical-align: middle;\n",
       "    }\n",
       "\n",
       "    .dataframe tbody tr th {\n",
       "        vertical-align: top;\n",
       "    }\n",
       "\n",
       "    .dataframe thead th {\n",
       "        text-align: right;\n",
       "    }\n",
       "</style>\n",
       "<table border=\"1\" class=\"dataframe\">\n",
       "  <thead>\n",
       "    <tr style=\"text-align: right;\">\n",
       "      <th></th>\n",
       "      <th>Date</th>\n",
       "      <th>Matchweek</th>\n",
       "      <th>Home Team</th>\n",
       "      <th>Away Team</th>\n",
       "      <th>Home Goals</th>\n",
       "      <th>Away Goals</th>\n",
       "      <th>Home xG</th>\n",
       "      <th>Away xG</th>\n",
       "    </tr>\n",
       "  </thead>\n",
       "  <tbody>\n",
       "    <tr>\n",
       "      <th>327</th>\n",
       "      <td>2018-04-14</td>\n",
       "      <td>34</td>\n",
       "      <td>Crystal Palace</td>\n",
       "      <td>Brighton &amp; Hove Albion</td>\n",
       "      <td>3</td>\n",
       "      <td>2</td>\n",
       "      <td>2.0</td>\n",
       "      <td>1.6</td>\n",
       "    </tr>\n",
       "    <tr>\n",
       "      <th>334</th>\n",
       "      <td>2018-04-17</td>\n",
       "      <td>35</td>\n",
       "      <td>Brighton &amp; Hove Albion</td>\n",
       "      <td>Tottenham Hotspur</td>\n",
       "      <td>1</td>\n",
       "      <td>1</td>\n",
       "      <td>1.0</td>\n",
       "      <td>1.2</td>\n",
       "    </tr>\n",
       "    <tr>\n",
       "      <th>347</th>\n",
       "      <td>2018-04-28</td>\n",
       "      <td>36</td>\n",
       "      <td>Burnley</td>\n",
       "      <td>Brighton &amp; Hove Albion</td>\n",
       "      <td>0</td>\n",
       "      <td>0</td>\n",
       "      <td>1.8</td>\n",
       "      <td>0.4</td>\n",
       "    </tr>\n",
       "    <tr>\n",
       "      <th>354</th>\n",
       "      <td>2018-05-04</td>\n",
       "      <td>37</td>\n",
       "      <td>Brighton &amp; Hove Albion</td>\n",
       "      <td>Manchester United</td>\n",
       "      <td>1</td>\n",
       "      <td>0</td>\n",
       "      <td>0.7</td>\n",
       "      <td>0.8</td>\n",
       "    </tr>\n",
       "    <tr>\n",
       "      <th>367</th>\n",
       "      <td>2018-05-09</td>\n",
       "      <td>31</td>\n",
       "      <td>Manchester City</td>\n",
       "      <td>Brighton &amp; Hove Albion</td>\n",
       "      <td>3</td>\n",
       "      <td>1</td>\n",
       "      <td>1.8</td>\n",
       "      <td>1.0</td>\n",
       "    </tr>\n",
       "  </tbody>\n",
       "</table>\n",
       "</div>"
      ],
      "text/plain": [
       "           Date Matchweek               Home Team               Away Team  \\\n",
       "327  2018-04-14        34          Crystal Palace  Brighton & Hove Albion   \n",
       "334  2018-04-17        35  Brighton & Hove Albion       Tottenham Hotspur   \n",
       "347  2018-04-28        36                 Burnley  Brighton & Hove Albion   \n",
       "354  2018-05-04        37  Brighton & Hove Albion       Manchester United   \n",
       "367  2018-05-09        31         Manchester City  Brighton & Hove Albion   \n",
       "\n",
       "    Home Goals Away Goals Home xG Away xG  \n",
       "327          3          2     2.0     1.6  \n",
       "334          1          1     1.0     1.2  \n",
       "347          0          0     1.8     0.4  \n",
       "354          1          0     0.7     0.8  \n",
       "367          3          1     1.8     1.0  "
      ]
     },
     "execution_count": 6,
     "metadata": {},
     "output_type": "execute_result"
    }
   ],
   "source": [
    "team_recent_df[['Date', 'Matchweek', 'Home Team', 'Away Team', 'Home Goals', 'Away Goals', 'Home xG', 'Away xG']]"
   ]
  },
  {
   "cell_type": "code",
   "execution_count": null,
   "metadata": {},
   "outputs": [],
   "source": [
    "team_goal_trend"
   ]
  },
  {
   "cell_type": "code",
   "execution_count": null,
   "metadata": {},
   "outputs": [],
   "source": [
    "n = 5\n",
    "df.groupby('Home Team').rolling(n)['Home Goals'].mean()"
   ]
  },
  {
   "cell_type": "code",
   "execution_count": null,
   "metadata": {},
   "outputs": [],
   "source": [
    "train, test = train_test_split(df, train_size=0.7)\n",
    "train, validation = train_test_split(train, train_size=0.7)"
   ]
  },
  {
   "cell_type": "code",
   "execution_count": null,
   "metadata": {},
   "outputs": [],
   "source": []
  }
 ],
 "metadata": {
  "kernelspec": {
   "display_name": "Python 3 (ipykernel)",
   "language": "python",
   "name": "python3"
  },
  "language_info": {
   "codemirror_mode": {
    "name": "ipython",
    "version": 3
   },
   "file_extension": ".py",
   "mimetype": "text/x-python",
   "name": "python",
   "nbconvert_exporter": "python",
   "pygments_lexer": "ipython3",
   "version": "3.8.13"
  },
  "vscode": {
   "interpreter": {
    "hash": "585a938ec471c889bf0cce0aed741a99eaf47ca09c0fa8393793bc5bfe77ba11"
   }
  }
 },
 "nbformat": 4,
 "nbformat_minor": 2
}
