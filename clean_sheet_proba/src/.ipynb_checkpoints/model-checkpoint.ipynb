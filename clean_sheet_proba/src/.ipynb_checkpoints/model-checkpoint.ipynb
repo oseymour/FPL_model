{
 "cells": [
  {
   "cell_type": "code",
   "execution_count": 1,
   "metadata": {},
   "outputs": [],
   "source": [
    "import pandas as pd\n",
    "pd.set_option('display.max_columns', None)\n",
    "import numpy as np\n",
    "from sklearn.model_selection import train_test_split\n",
    "from sklearn.ensemble import GradientBoostingClassifier"
   ]
  },
  {
   "cell_type": "markdown",
   "metadata": {},
   "source": [
    "# Data Import and Feature Engineering"
   ]
  },
  {
   "cell_type": "code",
   "execution_count": 3,
   "metadata": {},
   "outputs": [
    {
     "name": "stdout",
     "output_type": "stream",
     "text": [
      "2018\n",
      "2019\n",
      "2020\n",
      "2021\n",
      "2022\n",
      "(1900, 113)\n",
      "(1634, 113)\n"
     ]
    }
   ],
   "source": [
    "form_n = 5\n",
    "form_stats = ['Goals', 'xG', 'npxG', 'Points', '538 xG', 'nsxG', 'Adj Score',]\n",
    "\n",
    "df = pd.DataFrame()\n",
    "for year in range(2018,2023):\n",
    "    print(year)\n",
    "    \n",
    "    yr_df = pd.read_pickle(f'../data/{year}_matches.pkl') # load df for year\n",
    "    \n",
    "    # Add pts column\n",
    "    hgoals = yr_df['Home Goals'].values\n",
    "    agoals = yr_df['Away Goals'].values\n",
    "    yr_df['Home Points'] = (hgoals > agoals)*3 + (hgoals==agoals)\n",
    "    yr_df['Away Points'] = (agoals > hgoals)*3 + (hgoals==agoals)\n",
    "    \n",
    "    # Add clean sheet flag column\n",
    "    yr_df['Home CS'] = np.array(hgoals == 0, dtype=int)\n",
    "    yr_df['Away CS'] = np.array(agoals == 0, dtype=int)\n",
    "\n",
    "    # Add form values\n",
    "    for idx in yr_df.index:\n",
    "\n",
    "        # Add for home team and away team\n",
    "        hteam = yr_df.loc[idx,'Home Team']\n",
    "        ateam = yr_df.loc[idx,'Away Team']\n",
    "        for key, team in [('Home',hteam), ('Away',ateam)]:\n",
    "\n",
    "            # Dataframe of all of team's games\n",
    "            team_df = yr_df[(yr_df['Home Team']==team) | (yr_df['Away Team']==team)]\n",
    "            # Dataframe of form_n most recent games\n",
    "            team_recent_df = team_df[team_df['Date']<yr_df.loc[idx,'Date']][-form_n:]\n",
    "            # Skip for teams that haven't played enough games yet\n",
    "            if team_recent_df.shape[0]<form_n:\n",
    "                continue\n",
    "            assert team_recent_df.shape[0] == form_n # double-check\n",
    "\n",
    "            # Add columns for form stats, one column for the stat in the form_n most recent games\n",
    "            for stat in form_stats:\n",
    "                team_recent_stat = (\n",
    "                    ((team_recent_df['Home Team']==team) * team_recent_df[f'Home {stat}']) \n",
    "                    + ((team_recent_df['Away Team']==team) * team_recent_df[f'Away {stat}'])\n",
    "                )\n",
    "                for i, val in enumerate(team_recent_stat):\n",
    "                    yr_df.loc[idx, f'{key} {stat} Form -{form_n-i}'] = val\n",
    "        \n",
    "    df = pd.concat([df, yr_df], ignore_index=True, axis=0)\n",
    "    \n",
    "# Drop rows with NaNs\n",
    "print(df.shape)\n",
    "df = df.dropna()\n",
    "print(df.shape)"
   ]
  },
  {
   "cell_type": "markdown",
   "metadata": {},
   "source": [
    "# Model Training"
   ]
  },
  {
   "cell_type": "code",
   "execution_count": 58,
   "metadata": {},
   "outputs": [],
   "source": [
    "feature_cols = [\n",
    "    'Home ELO', 'Away ELO', \n",
    "    'Home SPI', 'Away SPI', \n",
    "    'Prob Home Win', 'Prob Away Win', 'Prob Tie', \n",
    "    'Home Proj Score', 'Away Proj Score', \n",
    "    'Home Importance', 'Away Importance',\n",
    "]\n",
    "# Add form columns\n",
    "for stat in form_stats:\n",
    "    for team in ['Home', 'Away']:\n",
    "        feature_cols += [f'{team} {stat} Form -{i}' for i in range(1,form_n+1)]\n",
    "\n",
    "label_col = 'Home CS'\n",
    "\n",
    "train_size, validation_size, test_size = 0.7, 0.15, 0.15\n",
    "np.random.seed(18)\n",
    "\n",
    "# Train-test split\n",
    "train_X, test_X, train_y, test_y = train_test_split(\n",
    "    df[feature_cols], df[label_col],\n",
    "    train_size=train_size+validation_size\n",
    ")\n",
    "# Train-validation split\n",
    "train_X, validation_X, train_y, validation_y = train_test_split(\n",
    "    train_X, train_y, \n",
    "    train_size=train_size/(train_size+validation_size)\n",
    ")"
   ]
  },
  {
   "cell_type": "code",
   "execution_count": 83,
   "metadata": {
    "scrolled": true
   },
   "outputs": [
    {
     "name": "stdout",
     "output_type": "stream",
     "text": [
      "      Iter       Train Loss   Remaining Time \n",
      "         1           1.0694            0.00s\n",
      "         2           1.0487            1.30m\n",
      "         3           1.0302            1.74m\n",
      "         4           1.0139            1.95m\n",
      "         5           0.9987            2.08m\n",
      "         6           0.9872            2.17m\n",
      "         7           0.9762            1.86m\n",
      "         8           0.9633            2.09m\n",
      "         9           0.9531            1.86m\n",
      "        10           0.9445            1.93m\n",
      "        20           0.8648            1.93m\n",
      "        30           0.8113            1.93m\n",
      "        40           0.7783            1.92m\n",
      "        50           0.7422            1.87m\n",
      "        60           0.7169            1.88m\n",
      "        70           0.6835            1.90m\n",
      "        80           0.6593            1.89m\n",
      "        90           0.6266            1.92m\n",
      "       100           0.6023            1.96m\n",
      "       200           0.3722            1.97m\n",
      "       300           0.2487            1.92m\n",
      "       400           0.1667            1.90m\n",
      "       500           0.1132            1.87m\n",
      "       600           0.0775            1.83m\n",
      "       700           0.0527            1.81m\n",
      "       800           0.0373            1.78m\n",
      "       900           0.0267            1.76m\n",
      "      1000           0.0192            1.74m\n",
      "      2000           0.0007            1.53m\n",
      "      3000           0.0000            1.38m\n",
      "      4000           0.0000            1.19m\n",
      "      5000           0.0000           59.50s\n",
      "      6000           0.0000           41.21s\n",
      "      7000           0.0000           26.63s\n",
      "      8000           0.0000           15.61s\n",
      "      9000           0.0000            6.98s\n",
      "     10000           0.0000            0.00s\n"
     ]
    },
    {
     "data": {
      "text/plain": [
       "GradientBoostingClassifier(n_estimators=10000, verbose=1)"
      ]
     },
     "execution_count": 83,
     "metadata": {},
     "output_type": "execute_result"
    }
   ],
   "source": [
    "model = GradientBoostingClassifier(verbose=1,\n",
    "                                   n_estimators=10000)\n",
    "model.fit(train_X, train_y)"
   ]
  },
  {
   "cell_type": "code",
   "execution_count": 116,
   "metadata": {},
   "outputs": [
    {
     "data": {
      "text/html": [
       "<div>\n",
       "<style scoped>\n",
       "    .dataframe tbody tr th:only-of-type {\n",
       "        vertical-align: middle;\n",
       "    }\n",
       "\n",
       "    .dataframe tbody tr th {\n",
       "        vertical-align: top;\n",
       "    }\n",
       "\n",
       "    .dataframe thead th {\n",
       "        text-align: right;\n",
       "    }\n",
       "</style>\n",
       "<table border=\"1\" class=\"dataframe\">\n",
       "  <thead>\n",
       "    <tr style=\"text-align: right;\">\n",
       "      <th></th>\n",
       "      <th>0</th>\n",
       "      <th>1</th>\n",
       "    </tr>\n",
       "  </thead>\n",
       "  <tbody>\n",
       "    <tr>\n",
       "      <th>5</th>\n",
       "      <td>Prob Away Win</td>\n",
       "      <td>0.051248</td>\n",
       "    </tr>\n",
       "    <tr>\n",
       "      <th>57</th>\n",
       "      <td>Away 538 xG Form -2</td>\n",
       "      <td>0.039767</td>\n",
       "    </tr>\n",
       "    <tr>\n",
       "      <th>0</th>\n",
       "      <td>Home ELO</td>\n",
       "      <td>0.035386</td>\n",
       "    </tr>\n",
       "    <tr>\n",
       "      <th>54</th>\n",
       "      <td>Home 538 xG Form -4</td>\n",
       "      <td>0.032573</td>\n",
       "    </tr>\n",
       "    <tr>\n",
       "      <th>4</th>\n",
       "      <td>Prob Home Win</td>\n",
       "      <td>0.03185</td>\n",
       "    </tr>\n",
       "    <tr>\n",
       "      <th>...</th>\n",
       "      <td>...</td>\n",
       "      <td>...</td>\n",
       "    </tr>\n",
       "    <tr>\n",
       "      <th>41</th>\n",
       "      <td>Home Points Form -1</td>\n",
       "      <td>0.000355</td>\n",
       "    </tr>\n",
       "    <tr>\n",
       "      <th>20</th>\n",
       "      <td>Away Goals Form -5</td>\n",
       "      <td>0.000255</td>\n",
       "    </tr>\n",
       "    <tr>\n",
       "      <th>43</th>\n",
       "      <td>Home Points Form -3</td>\n",
       "      <td>0.000125</td>\n",
       "    </tr>\n",
       "    <tr>\n",
       "      <th>45</th>\n",
       "      <td>Home Points Form -5</td>\n",
       "      <td>0.000076</td>\n",
       "    </tr>\n",
       "    <tr>\n",
       "      <th>14</th>\n",
       "      <td>Home Goals Form -4</td>\n",
       "      <td>0.000004</td>\n",
       "    </tr>\n",
       "  </tbody>\n",
       "</table>\n",
       "<p>81 rows × 2 columns</p>\n",
       "</div>"
      ],
      "text/plain": [
       "                      0         1\n",
       "5         Prob Away Win  0.051248\n",
       "57  Away 538 xG Form -2  0.039767\n",
       "0              Home ELO  0.035386\n",
       "54  Home 538 xG Form -4  0.032573\n",
       "4         Prob Home Win   0.03185\n",
       "..                  ...       ...\n",
       "41  Home Points Form -1  0.000355\n",
       "20   Away Goals Form -5  0.000255\n",
       "43  Home Points Form -3  0.000125\n",
       "45  Home Points Form -5  0.000076\n",
       "14   Home Goals Form -4  0.000004\n",
       "\n",
       "[81 rows x 2 columns]"
      ]
     },
     "execution_count": 116,
     "metadata": {},
     "output_type": "execute_result"
    }
   ],
   "source": [
    "pd.DataFrame(data=np.vstack([train_X.columns,\n",
    "                             model.feature_importances_,]).T).sort_values(by=1, ascending=False)"
   ]
  },
  {
   "cell_type": "code",
   "execution_count": 97,
   "metadata": {},
   "outputs": [
    {
     "data": {
      "text/plain": [
       "array([[156,  31],\n",
       "       [ 49,   9]], dtype=int64)"
      ]
     },
     "execution_count": 97,
     "metadata": {},
     "output_type": "execute_result"
    }
   ],
   "source": [
    "from sklearn.metrics import confusion_matrix\n",
    "confusion_matrix(y_true=validation_y, \n",
    "                 y_pred=model.predict(validation_X))"
   ]
  }
 ],
 "metadata": {
  "kernelspec": {
   "display_name": "Python 3 (ipykernel)",
   "language": "python",
   "name": "python3"
  },
  "language_info": {
   "codemirror_mode": {
    "name": "ipython",
    "version": 3
   },
   "file_extension": ".py",
   "mimetype": "text/x-python",
   "name": "python",
   "nbconvert_exporter": "python",
   "pygments_lexer": "ipython3",
   "version": "3.8.13"
  },
  "vscode": {
   "interpreter": {
    "hash": "585a938ec471c889bf0cce0aed741a99eaf47ca09c0fa8393793bc5bfe77ba11"
   }
  }
 },
 "nbformat": 4,
 "nbformat_minor": 2
}
