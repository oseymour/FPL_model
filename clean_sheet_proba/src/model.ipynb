{
 "cells": [
  {
   "cell_type": "code",
   "execution_count": null,
   "metadata": {},
   "outputs": [],
   "source": [
    "import pandas as pd\n",
    "import numpy as np\n",
    "from sklearn.model_selection import train_test_split\n",
    "from sklearn.ensemble import GradientBoostingClassifier"
   ]
  },
  {
   "cell_type": "code",
   "execution_count": null,
   "metadata": {},
   "outputs": [],
   "source": [
    "df = pd.DataFrame()\n",
    "for year in range(2018,2023):\n",
    "    yr_df = pd.read_pickle(f'./data/{year}_matches.pkl') # load df for year\n",
    "\n",
    "    # Add moving averages\n",
    "    teams = np.unique(np.append(yr_df['Home Team'], yr_df['Away Team']))\n",
    "    for team in teams:\n",
    "        team_df = yr_df[(yr_df['Home Team']==team) | (yr_df['Away Team']==team)]\n",
    "        assert team_df.shape[0] == 38\n",
    "        \n",
    "\n",
    "    # df = pd.concat([df, ], ignore_index=True, axis=0)\n",
    "\n",
    "    break"
   ]
  },
  {
   "cell_type": "code",
   "execution_count": null,
   "metadata": {},
   "outputs": [],
   "source": [
    "for i in yr_df.index:\n",
    "    hteam = yr_df.loc[i,'Home Team']\n",
    "    ateam = yr_df.loc[i,'Away Team']\n",
    "\n",
    "    for key, team in [('Home',hteam), ('Away',ateam)]:\n",
    "        n = 5\n",
    "        team_recent_df = yr_df[(yr_df['Home Team']==team) | (yr_df['Away Team']==team)].iloc[-n-1:-1,:]\n",
    "        team_recent_goals = (\n",
    "            ((team_recent_df['Home Team']==team) * team_recent_df['Home Goals']) \n",
    "            + ((team_recent_df['Away Team']==team) * team_recent_df['Away Goals'])\n",
    "            )\n",
    "        team_recent_xg = (\n",
    "            ((team_recent_df['Home Team']==team) * team_recent_df['Home xG']) \n",
    "            + ((team_recent_df['Away Team']==team) * team_recent_df['Away xG'])\n",
    "            )"
   ]
  },
  {
   "cell_type": "code",
   "execution_count": null,
   "metadata": {},
   "outputs": [],
   "source": [
    "i, team"
   ]
  },
  {
   "cell_type": "code",
   "execution_count": null,
   "metadata": {},
   "outputs": [],
   "source": [
    "team_recent_df[['Date', 'Matchweek', 'Home Team', 'Away Team', 'Home Goals', 'Away Goals', 'Home xG', 'Away xG']]"
   ]
  },
  {
   "cell_type": "code",
   "execution_count": null,
   "metadata": {},
   "outputs": [],
   "source": [
    "team_goal_trend"
   ]
  },
  {
   "cell_type": "code",
   "execution_count": null,
   "metadata": {},
   "outputs": [],
   "source": [
    "n = 5\n",
    "df.groupby('Home Team').rolling(n)['Home Goals'].mean()"
   ]
  },
  {
   "cell_type": "code",
   "execution_count": null,
   "metadata": {},
   "outputs": [],
   "source": [
    "train, test = train_test_split(df, train_size=0.7)\n",
    "train, validation = train_test_split(train, train_size=0.7)"
   ]
  },
  {
   "cell_type": "code",
   "execution_count": null,
   "metadata": {},
   "outputs": [],
   "source": []
  }
 ],
 "metadata": {
  "kernelspec": {
   "display_name": "Python 3.8.13 ('base')",
   "language": "python",
   "name": "python3"
  },
  "language_info": {
   "codemirror_mode": {
    "name": "ipython",
    "version": 3
   },
   "file_extension": ".py",
   "mimetype": "text/x-python",
   "name": "python",
   "nbconvert_exporter": "python",
   "pygments_lexer": "ipython3",
   "version": "3.8.13"
  },
  "orig_nbformat": 4,
  "vscode": {
   "interpreter": {
    "hash": "585a938ec471c889bf0cce0aed741a99eaf47ca09c0fa8393793bc5bfe77ba11"
   }
  }
 },
 "nbformat": 4,
 "nbformat_minor": 2
}
