{
 "cells": [
  {
   "cell_type": "code",
   "execution_count": 24,
   "id": "c70f760b",
   "metadata": {},
   "outputs": [],
   "source": [
    "import sys\n",
    "sys.path.insert(0, '../../../ScraperFC') # import local ScraperFC\n",
    "import ScraperFC as sfc\n",
    "\n",
    "from selenium.webdriver.chrome.service import Service as ChromeService\n",
    "from selenium.webdriver.chrome.options import Options\n",
    "from selenium import webdriver\n",
    "from webdriver_manager.chrome import ChromeDriverManager\n",
    "from selenium.webdriver.common.by import By\n",
    "\n",
    "import traceback\n",
    "import pandas as pd\n",
    "from bs4 import BeautifulSoup\n",
    "import time\n",
    "import numpy as np\n",
    "from tqdm import tqdm"
   ]
  },
  {
   "cell_type": "markdown",
   "id": "046334fc",
   "metadata": {},
   "source": [
    "# Scrape matches from FBRef"
   ]
  },
  {
   "cell_type": "code",
   "execution_count": 38,
   "id": "96718c27",
   "metadata": {},
   "outputs": [
    {
     "name": "stderr",
     "output_type": "stream",
     "text": [
      "[WDM] - \n",
      "\n",
      "[WDM] - ====== WebDriver manager ======\n",
      "[WDM] - Current google-chrome version is 105.0.5195\n",
      "[WDM] - Get LATEST driver version for 105.0.5195\n",
      "[WDM] - Driver [C:\\Users\\Owner\\.wdm\\drivers\\chromedriver\\win32\\105.0.5195.52\\chromedriver.exe] found in cache\n"
     ]
    },
    {
     "name": "stdout",
     "output_type": "stream",
     "text": [
      "2017\n",
      "Gathering match links.\n",
      "Scraping matches.\n"
     ]
    },
    {
     "name": "stderr",
     "output_type": "stream",
     "text": [
      "100%|██████████| 380/380 [39:05<00:00,  6.17s/it]\n"
     ]
    },
    {
     "name": "stdout",
     "output_type": "stream",
     "text": [
      "2018\n",
      "Gathering match links.\n",
      "Scraping matches.\n"
     ]
    },
    {
     "name": "stderr",
     "output_type": "stream",
     "text": [
      "100%|██████████| 380/380 [50:20<00:00,  7.95s/it]\n"
     ]
    },
    {
     "name": "stdout",
     "output_type": "stream",
     "text": [
      "2019\n",
      "Gathering match links.\n",
      "Scraping matches.\n"
     ]
    },
    {
     "name": "stderr",
     "output_type": "stream",
     "text": [
      "100%|██████████| 380/380 [49:54<00:00,  7.88s/it]\n"
     ]
    },
    {
     "name": "stdout",
     "output_type": "stream",
     "text": [
      "2020\n",
      "Gathering match links.\n",
      "Scraping matches.\n"
     ]
    },
    {
     "name": "stderr",
     "output_type": "stream",
     "text": [
      "100%|██████████| 380/380 [49:40<00:00,  7.84s/it]\n"
     ]
    },
    {
     "name": "stdout",
     "output_type": "stream",
     "text": [
      "2021\n",
      "Gathering match links.\n",
      "Scraping matches.\n"
     ]
    },
    {
     "name": "stderr",
     "output_type": "stream",
     "text": [
      "100%|██████████| 380/380 [50:45<00:00,  8.01s/it]\n"
     ]
    },
    {
     "name": "stdout",
     "output_type": "stream",
     "text": [
      "2022\n",
      "Gathering match links.\n",
      "Scraping matches.\n"
     ]
    },
    {
     "name": "stderr",
     "output_type": "stream",
     "text": [
      "100%|██████████| 380/380 [43:55<00:00,  6.94s/it]\n"
     ]
    }
   ],
   "source": [
    "scraper = sfc.FBRef()\n",
    "try:\n",
    "    for year in range(2017,2023):\n",
    "        print(year)\n",
    "        matches = scraper.scrape_matches(year, 'EPL')\n",
    "        matches.to_pickle(f'{year}_matches.pkl')\n",
    "except:\n",
    "    traceback.print_exc()\n",
    "scraper.close()"
   ]
  },
  {
   "cell_type": "markdown",
   "id": "d5875dd3",
   "metadata": {},
   "source": [
    "# Add ELO scores for matches"
   ]
  },
  {
   "cell_type": "code",
   "execution_count": 53,
   "id": "54838e10",
   "metadata": {},
   "outputs": [
    {
     "name": "stderr",
     "output_type": "stream",
     "text": [
      "  6%|▌         | 21/380 [01:33<26:45,  4.47s/it]\n"
     ]
    },
    {
     "ename": "KeyboardInterrupt",
     "evalue": "",
     "output_type": "error",
     "traceback": [
      "\u001b[1;31m---------------------------------------------------------------------------\u001b[0m",
      "\u001b[1;31mKeyboardInterrupt\u001b[0m                         Traceback (most recent call last)",
      "\u001b[1;32mc:\\Users\\Owner\\Documents\\GitHub\\FPL_model\\clean_sheet_proba\\data\\Gather data.ipynb Cell 5\u001b[0m in \u001b[0;36m<cell line: 24>\u001b[1;34m()\u001b[0m\n\u001b[0;32m     <a href='vscode-notebook-cell:/c%3A/Users/Owner/Documents/GitHub/FPL_model/clean_sheet_proba/data/Gather%20data.ipynb#X12sZmlsZQ%3D%3D?line=38'>39</a>\u001b[0m ateam \u001b[39m=\u001b[39m (\n\u001b[0;32m     <a href='vscode-notebook-cell:/c%3A/Users/Owner/Documents/GitHub/FPL_model/clean_sheet_proba/data/Gather%20data.ipynb#X12sZmlsZQ%3D%3D?line=39'>40</a>\u001b[0m     \u001b[39mmatch\u001b[39;00m[\u001b[39m'\u001b[39m\u001b[39mAway Team\u001b[39m\u001b[39m'\u001b[39m] \n\u001b[0;32m     <a href='vscode-notebook-cell:/c%3A/Users/Owner/Documents/GitHub/FPL_model/clean_sheet_proba/data/Gather%20data.ipynb#X12sZmlsZQ%3D%3D?line=40'>41</a>\u001b[0m     \u001b[39mif\u001b[39;00m match[\u001b[39m'\u001b[39m\u001b[39mAway Team\u001b[39m\u001b[39m'\u001b[39m] \u001b[39mnot\u001b[39;00m \u001b[39min\u001b[39;00m fbref2clubelo_teams\u001b[39m.\u001b[39mkeys() \n\u001b[0;32m     <a href='vscode-notebook-cell:/c%3A/Users/Owner/Documents/GitHub/FPL_model/clean_sheet_proba/data/Gather%20data.ipynb#X12sZmlsZQ%3D%3D?line=41'>42</a>\u001b[0m     \u001b[39melse\u001b[39;00m fbref2clubelo_teams[match[\u001b[39m'\u001b[39m\u001b[39mAway Team\u001b[39m\u001b[39m'\u001b[39m]]\n\u001b[0;32m     <a href='vscode-notebook-cell:/c%3A/Users/Owner/Documents/GitHub/FPL_model/clean_sheet_proba/data/Gather%20data.ipynb#X12sZmlsZQ%3D%3D?line=42'>43</a>\u001b[0m )\n\u001b[0;32m     <a href='vscode-notebook-cell:/c%3A/Users/Owner/Documents/GitHub/FPL_model/clean_sheet_proba/data/Gather%20data.ipynb#X12sZmlsZQ%3D%3D?line=44'>45</a>\u001b[0m \u001b[39m# Get the ELO scores\u001b[39;00m\n\u001b[1;32m---> <a href='vscode-notebook-cell:/c%3A/Users/Owner/Documents/GitHub/FPL_model/clean_sheet_proba/data/Gather%20data.ipynb#X12sZmlsZQ%3D%3D?line=45'>46</a>\u001b[0m helo \u001b[39m=\u001b[39m sfc\u001b[39m.\u001b[39;49mClubElo()\u001b[39m.\u001b[39;49mscrape_team_on_date(hteam, date)\n\u001b[0;32m     <a href='vscode-notebook-cell:/c%3A/Users/Owner/Documents/GitHub/FPL_model/clean_sheet_proba/data/Gather%20data.ipynb#X12sZmlsZQ%3D%3D?line=46'>47</a>\u001b[0m aelo \u001b[39m=\u001b[39m sfc\u001b[39m.\u001b[39mClubElo()\u001b[39m.\u001b[39mscrape_team_on_date(ateam, date)\n\u001b[0;32m     <a href='vscode-notebook-cell:/c%3A/Users/Owner/Documents/GitHub/FPL_model/clean_sheet_proba/data/Gather%20data.ipynb#X12sZmlsZQ%3D%3D?line=47'>48</a>\u001b[0m \u001b[39m# Print out team names if the ELO score can't be found\u001b[39;00m\n",
      "File \u001b[1;32mc:\\Users\\Owner\\Documents\\GitHub\\FPL_model\\clean_sheet_proba\\data\\../../../ScraperFC\\ScraperFC\\ClubElo.py:43\u001b[0m, in \u001b[0;36mClubElo.scrape_team_on_date\u001b[1;34m(self, team, date)\u001b[0m\n\u001b[0;32m     41\u001b[0m \u001b[39m# find row that given date falls in\u001b[39;00m\n\u001b[0;32m     42\u001b[0m \u001b[39mfor\u001b[39;00m i \u001b[39min\u001b[39;00m df\u001b[39m.\u001b[39mindex:\n\u001b[1;32m---> 43\u001b[0m     from_date \u001b[39m=\u001b[39m datetime\u001b[39m.\u001b[39;49mstrptime(df\u001b[39m.\u001b[39;49mloc[i,\u001b[39m'\u001b[39;49m\u001b[39mFrom\u001b[39;49m\u001b[39m'\u001b[39;49m], \u001b[39m'\u001b[39;49m\u001b[39m%\u001b[39;49m\u001b[39mY-\u001b[39;49m\u001b[39m%\u001b[39;49m\u001b[39mm-\u001b[39;49m\u001b[39m%d\u001b[39;49;00m\u001b[39m'\u001b[39;49m)\n\u001b[0;32m     44\u001b[0m     to_date \u001b[39m=\u001b[39m datetime\u001b[39m.\u001b[39mstrptime(df\u001b[39m.\u001b[39mloc[i,\u001b[39m'\u001b[39m\u001b[39mTo\u001b[39m\u001b[39m'\u001b[39m], \u001b[39m'\u001b[39m\u001b[39m%\u001b[39m\u001b[39mY-\u001b[39m\u001b[39m%\u001b[39m\u001b[39mm-\u001b[39m\u001b[39m%d\u001b[39;00m\u001b[39m'\u001b[39m)\n\u001b[0;32m     45\u001b[0m     \u001b[39mif\u001b[39;00m (date\u001b[39m>\u001b[39mfrom_date \u001b[39mand\u001b[39;00m date\u001b[39m<\u001b[39mto_date) \u001b[39mor\u001b[39;00m date\u001b[39m==\u001b[39mfrom_date \u001b[39mor\u001b[39;00m date\u001b[39m==\u001b[39mto_date:\n",
      "File \u001b[1;32mc:\\Users\\Owner\\anaconda3\\lib\\_strptime.py:568\u001b[0m, in \u001b[0;36m_strptime_datetime\u001b[1;34m(cls, data_string, format)\u001b[0m\n\u001b[0;32m    565\u001b[0m \u001b[39mdef\u001b[39;00m \u001b[39m_strptime_datetime\u001b[39m(\u001b[39mcls\u001b[39m, data_string, \u001b[39mformat\u001b[39m\u001b[39m=\u001b[39m\u001b[39m\"\u001b[39m\u001b[39m%a\u001b[39;00m\u001b[39m \u001b[39m\u001b[39m%\u001b[39m\u001b[39mb \u001b[39m\u001b[39m%d\u001b[39;00m\u001b[39m \u001b[39m\u001b[39m%\u001b[39m\u001b[39mH:\u001b[39m\u001b[39m%\u001b[39m\u001b[39mM:\u001b[39m\u001b[39m%\u001b[39m\u001b[39mS \u001b[39m\u001b[39m%\u001b[39m\u001b[39mY\u001b[39m\u001b[39m\"\u001b[39m):\n\u001b[0;32m    566\u001b[0m     \u001b[39m\"\"\"Return a class cls instance based on the input string and the\u001b[39;00m\n\u001b[0;32m    567\u001b[0m \u001b[39m    format string.\"\"\"\u001b[39;00m\n\u001b[1;32m--> 568\u001b[0m     tt, fraction, gmtoff_fraction \u001b[39m=\u001b[39m _strptime(data_string, \u001b[39mformat\u001b[39;49m)\n\u001b[0;32m    569\u001b[0m     tzname, gmtoff \u001b[39m=\u001b[39m tt[\u001b[39m-\u001b[39m\u001b[39m2\u001b[39m:]\n\u001b[0;32m    570\u001b[0m     args \u001b[39m=\u001b[39m tt[:\u001b[39m6\u001b[39m] \u001b[39m+\u001b[39m (fraction,)\n",
      "File \u001b[1;32mc:\\Users\\Owner\\anaconda3\\lib\\_strptime.py:324\u001b[0m, in \u001b[0;36m_strptime\u001b[1;34m(data_string, format)\u001b[0m\n\u001b[0;32m    320\u001b[0m \u001b[39mwith\u001b[39;00m _cache_lock:\n\u001b[0;32m    321\u001b[0m     locale_time \u001b[39m=\u001b[39m _TimeRE_cache\u001b[39m.\u001b[39mlocale_time\n\u001b[0;32m    322\u001b[0m     \u001b[39mif\u001b[39;00m (_getlang() \u001b[39m!=\u001b[39m locale_time\u001b[39m.\u001b[39mlang \u001b[39mor\u001b[39;00m\n\u001b[0;32m    323\u001b[0m         time\u001b[39m.\u001b[39mtzname \u001b[39m!=\u001b[39m locale_time\u001b[39m.\u001b[39mtzname \u001b[39mor\u001b[39;00m\n\u001b[1;32m--> 324\u001b[0m         time\u001b[39m.\u001b[39mdaylight \u001b[39m!=\u001b[39m locale_time\u001b[39m.\u001b[39mdaylight):\n\u001b[0;32m    325\u001b[0m         _TimeRE_cache \u001b[39m=\u001b[39m TimeRE()\n\u001b[0;32m    326\u001b[0m         _regex_cache\u001b[39m.\u001b[39mclear()\n",
      "\u001b[1;31mKeyboardInterrupt\u001b[0m: "
     ]
    }
   ],
   "source": [
    "# For mapping the team names on FBRef to the team names for ClubELO API\n",
    "fbref2clubelo_teams = {\n",
    "    'Hull City': 'Hull',\n",
    "    'Leicester City': 'Leicester',\n",
    "    'Stoke City': 'Stoke',\n",
    "    'Swansea City': 'Swansea',\n",
    "    'Tottenham Hotspur': 'Tottenham',\n",
    "    'Crystal Palace': 'CrystalPalace',\n",
    "    'West Bromwich Albion': 'WestBrom',\n",
    "    'Manchester City': 'ManCity',\n",
    "    'Manchester United': 'ManUnited',\n",
    "    'West Ham United': 'WestHam',\n",
    "    'Huddersfield Town': 'Huddersfield',\n",
    "    'Brighton & Hove Albion': 'Brighton',\n",
    "    'Newcastle United': 'Newcastle',\n",
    "    'Cardiff City': 'Cardiff',\n",
    "    'Wolverhampton Wanderers': 'Wolves',\n",
    "    'Norwich City': 'Norwich',\n",
    "    'Sheffield United': 'SheffieldUnited',\n",
    "    'Aston Villa': 'AstonVilla',\n",
    "    'Leeds United': 'Leeds',\n",
    "}\n",
    "\n",
    "for year in range(2017,2023):\n",
    "    matches = pd.read_pickle(f'{year}_matches.pkl')\n",
    "\n",
    "    home_elos = list()\n",
    "    away_elos = list()\n",
    "    for i in tqdm(matches.index):\n",
    "        match = matches.loc[i,:]\n",
    "\n",
    "        # Date and team names. Team names may need to be remapped to be found on ClubELO\n",
    "        date = str(match['Date'])\n",
    "        hteam = (\n",
    "            match['Home Team'] \n",
    "            if match['Home Team'] not in fbref2clubelo_teams.keys() \n",
    "            else fbref2clubelo_teams[match['Home Team']]\n",
    "        )\n",
    "        ateam = (\n",
    "            match['Away Team'] \n",
    "            if match['Away Team'] not in fbref2clubelo_teams.keys() \n",
    "            else fbref2clubelo_teams[match['Away Team']]\n",
    "        )\n",
    "\n",
    "        # Get the ELO scores\n",
    "        helo = sfc.ClubElo().scrape_team_on_date(hteam, date)\n",
    "        aelo = sfc.ClubElo().scrape_team_on_date(ateam, date)\n",
    "        # Print out team names if the ELO score can't be found\n",
    "        if helo == -1:\n",
    "            print(hteam)\n",
    "            break\n",
    "        if aelo == -1:\n",
    "            print(ateam)\n",
    "            break\n",
    "\n",
    "        home_elos.append(helo)\n",
    "        away_elos.append(aelo)\n",
    "\n",
    "    matches['Home ELO'] = home_elos\n",
    "    matches['Away ELO'] = away_elos\n",
    "\n",
    "    matches.to_pickle(f'{year}_matches.pkl')"
   ]
  },
  {
   "cell_type": "markdown",
   "id": "80034493",
   "metadata": {},
   "source": [
    "# Scrape historic FPL data"
   ]
  },
  {
   "cell_type": "code",
   "execution_count": 2,
   "id": "64e8dc1b",
   "metadata": {},
   "outputs": [
    {
     "name": "stderr",
     "output_type": "stream",
     "text": [
      "[WDM] - \n",
      "\n",
      "[WDM] - ====== WebDriver manager ======\n",
      "[WDM] - Current google-chrome version is 105.0.5195\n",
      "[WDM] - Get LATEST driver version for 105.0.5195\n",
      "[WDM] - Driver [C:\\Users\\Owner\\.wdm\\drivers\\chromedriver\\win32\\105.0.5195.52\\chromedriver.exe] found in cache\n"
     ]
    }
   ],
   "source": [
    "# options = Options()\n",
    "# # options.headless = True\n",
    "# prefs = {'profile.managed_default_content_settings.images': 2} # don't load images\n",
    "# options.add_experimental_option('prefs', prefs)\n",
    "# driver = webdriver.Chrome(\n",
    "#     service=ChromeService(ChromeDriverManager().install()),\n",
    "#     options=options\n",
    "# )"
   ]
  },
  {
   "cell_type": "code",
   "execution_count": 113,
   "id": "5d35ded2",
   "metadata": {},
   "outputs": [],
   "source": [
    "# year = 2022\n",
    "\n",
    "# driver.get('https://www.fantasynutmeg.com/history')\n",
    "# time.sleep(2)\n",
    "\n",
    "# #### Load data for the season ####\n",
    "# # select the season from the dropdown\n",
    "# soup = BeautifulSoup(driver.page_source, 'html.parser')\n",
    "# season_option_tag = soup.find('select').find('option', {'label': f'{year-1}-{str(year)[-2:]}'})\n",
    "# driver.find_element(By.XPATH, sfc.xpath_soup(season_option_tag)).click()\n",
    "\n",
    "# # click the update button to update the table\n",
    "# update_button_tag = soup.find('button', {'ng-click': 'loadHistory()'})\n",
    "# driver.find_element(By.XPATH, sfc.xpath_soup(update_button_tag)).click()\n",
    "\n",
    "# time.sleep(2)"
   ]
  },
  {
   "cell_type": "code",
   "execution_count": 114,
   "id": "5e01ada8",
   "metadata": {
    "scrolled": true
   },
   "outputs": [
    {
     "ename": "KeyboardInterrupt",
     "evalue": "",
     "output_type": "error",
     "traceback": [
      "\u001b[1;31m---------------------------------------------------------------------------\u001b[0m",
      "\u001b[1;31mKeyboardInterrupt\u001b[0m                         Traceback (most recent call last)",
      "Input \u001b[1;32mIn [114]\u001b[0m, in \u001b[0;36m<cell line: 5>\u001b[1;34m()\u001b[0m\n\u001b[0;32m     21\u001b[0m cols \u001b[38;5;241m=\u001b[39m player_row\u001b[38;5;241m.\u001b[39mfind_all(\u001b[38;5;124m'\u001b[39m\u001b[38;5;124mdiv\u001b[39m\u001b[38;5;124m'\u001b[39m, {\u001b[38;5;124m'\u001b[39m\u001b[38;5;124mrole\u001b[39m\u001b[38;5;124m'\u001b[39m: \u001b[38;5;124m'\u001b[39m\u001b[38;5;124mgridcell\u001b[39m\u001b[38;5;124m'\u001b[39m})\n\u001b[0;32m     22\u001b[0m driver\u001b[38;5;241m.\u001b[39mfind_element(By\u001b[38;5;241m.\u001b[39mXPATH, sfc\u001b[38;5;241m.\u001b[39mxpath_soup(cols[\u001b[38;5;241m0\u001b[39m]))\u001b[38;5;241m.\u001b[39mclick()\n\u001b[1;32m---> 23\u001b[0m \u001b[43mtime\u001b[49m\u001b[38;5;241;43m.\u001b[39;49m\u001b[43msleep\u001b[49m\u001b[43m(\u001b[49m\u001b[38;5;241;43m5\u001b[39;49m\u001b[43m)\u001b[49m\n\u001b[0;32m     25\u001b[0m \u001b[38;5;66;03m#+++++++++++++++++++++++++++++++++++++++++++++++++++++++++++++++++++++++\u001b[39;00m\n\u001b[0;32m     26\u001b[0m \u001b[38;5;66;03m# Gather player gameweek data\u001b[39;00m\n\u001b[0;32m     27\u001b[0m player_df \u001b[38;5;241m=\u001b[39m pd\u001b[38;5;241m.\u001b[39mDataFrame()\n",
      "\u001b[1;31mKeyboardInterrupt\u001b[0m: "
     ]
    }
   ],
   "source": [
    "# ################################################################################\n",
    "# #### Scroll through all rows ####\n",
    "# season_df = pd.DataFrame()\n",
    "# season_done = False\n",
    "# while not season_done:\n",
    "\n",
    "#     player_rows = BeautifulSoup(driver.page_source, 'html.parser')\\\n",
    "#         .find('div', {'id': 'ptsTable'})\\\n",
    "#         .find_all('div', {'role': 'row'})\n",
    "    \n",
    "#     #+++++++++++++++++++++++++++++++++++++++++++++++++++++++++++++++++++++++++++\n",
    "#     # Iterate across visible player rows\n",
    "#     for player_row in player_rows[1:]:\n",
    "        \n",
    "#         # Player info\n",
    "#         player_name = player_row.find_all('div', {'role': 'gridcell'})[0].getText()\n",
    "#         team = player_row.find_all('div', {'role': 'gridcell'})[1].getText()\n",
    "#         position = player_row.find_all('div', {'role': 'gridcell'})[2].getText()\n",
    "        \n",
    "#         # Click on player name to get gw data popup\n",
    "#         cols = player_row.find_all('div', {'role': 'gridcell'})\n",
    "#         driver.find_element(By.XPATH, sfc.xpath_soup(cols[0])).click()\n",
    "#         time.sleep(5)\n",
    "        \n",
    "#         #+++++++++++++++++++++++++++++++++++++++++++++++++++++++++++++++++++++++\n",
    "#         # Gather player gameweek data\n",
    "#         player_df = pd.DataFrame()\n",
    "#         player_done = False\n",
    "#         while not player_done:\n",
    "            \n",
    "#             gw_rows = BeautifulSoup(driver.page_source, 'html.parser')\\\n",
    "#                 .find_all('div', {'role': 'presentation'})[-1]\\\n",
    "#                 .find_all('div', {'role': 'row'})\n",
    "            \n",
    "#             # Scrape visible rows\n",
    "#             for gw_row in gw_rows[1:]:\n",
    "#                 gw_data = np.array([\n",
    "#                     tag.getText() \\\n",
    "#                     for tag in gw_row.find_all('div', {'role': 'gridcell'})\n",
    "#                 ]).reshape(1,-1)\n",
    "#                 gw_df = pd.DataFrame(gw_data)\n",
    "#                 player_df = pd.concat([player_df, gw_df], axis=0, ignore_index=True)\n",
    "            \n",
    "#             # Scroll to last visible gameweek row\n",
    "#             og_fixture = BeautifulSoup(driver.page_source, 'html.parser')\\\n",
    "#                 .find_all('div', {'role': 'presentation'})[-1]\\\n",
    "#                 .find_all('div', {'role': 'row'})[-1]\\\n",
    "#                 .find_all('div', {'role': 'gridcell'})[1].getText()\n",
    "#             driver.execute_script(\n",
    "#                 'arguments[0].scrollIntoView();',\n",
    "#                 driver.find_element(By.XPATH, sfc.xpath_soup(gw_rows[-1]))\n",
    "#             )\n",
    "#             time.sleep(5)\n",
    "#             new_fixture = BeautifulSoup(driver.page_source, 'html.parser')\\\n",
    "#                 .find_all('div', {'role': 'presentation'})[-1]\\\n",
    "#                 .find_all('div', {'role': 'row'})[-1]\\\n",
    "#                 .find_all('div', {'role': 'gridcell'})[1].getText()\n",
    "#             if og_fixture == new_fixture:\n",
    "#                 player_done = True\n",
    "            \n",
    "#         # Clean player df\n",
    "#         player_df[0] = player_df[0].astype(int)\n",
    "#         player_df = player_df.drop_duplicates(ignore_index=True)\n",
    "#         player_df = player_df.sort_values(0).reset_index(drop=True)\n",
    "#         player_df['Name'] = [player_name,] * 38\n",
    "#         player_df['Team'] = [team,] * 38\n",
    "#         player_df['Pos'] = [position,] * 38\n",
    "        \n",
    "#         # Close player gw popup\n",
    "#         driver.find_element(\n",
    "#             By.XPATH, \n",
    "#             sfc.xpath_soup(\n",
    "#                 BeautifulSoup(driver.page_source, 'html.parser')\\\n",
    "#                     .find('button', {'class': 'close'})\n",
    "#             ),\n",
    "#         ).click()\n",
    "#         time.sleep(5)\n",
    "        \n",
    "#         # Update season df\n",
    "#         season_df = pd.concat([season_df, player_df], ignore_index=True, axis=0)\n",
    "\n",
    "#     #+++++++++++++++++++++++++++++++++++++++++++++++++++++++++++++++++++++++++++\n",
    "#     # Scroll to last visible player row\n",
    "#     og_first_player = player_rows[1].find('div', {'role': 'gridcell'}).getText()\n",
    "#     driver.execute_script(\n",
    "#         'arguments[0].scrollIntoView();',\n",
    "#         driver.find_element(By.XPATH, sfc.xpath_soup(player_rows[-1]))\n",
    "#     )\n",
    "#     time.sleep(5)\n",
    "#     new_first_player = BeautifulSoup(driver.page_source, 'html.parser')\\\n",
    "#         .find('div', {'id': 'ptsTable'})\\\n",
    "#         .find_all('div', {'role': 'row'})[1]\\\n",
    "#         .find('div', {'role': 'gridcell'}).getText()\n",
    "    \n",
    "#     print(og_first_player, new_first_player)\n",
    "#     print('-'*80)\n",
    "    \n",
    "#     if og_first_player == new_first_player:\n",
    "#         season_done = True\n",
    "    \n",
    "# # Clean season df\n",
    "# season_df.columns = [\n",
    "#     'GW', 'Fixture', 'Pts', 'MP', 'GS', 'A', 'CS', 'GC', 'OG', 'PS',\n",
    "#     'PM', 'YC', 'RC', 'S', 'B', 'BPS', 'ICT', 'Cost', 'TX_IN', 'TX_OUT',\n",
    "#     'Name', 'Team', 'Pos'\n",
    "# ]"
   ]
  },
  {
   "cell_type": "code",
   "execution_count": null,
   "id": "7e0a4ef3",
   "metadata": {},
   "outputs": [],
   "source": [
    "# season_df"
   ]
  },
  {
   "cell_type": "code",
   "execution_count": 115,
   "id": "93fa1776",
   "metadata": {},
   "outputs": [],
   "source": [
    "# driver.close()\n",
    "# driver.quit()"
   ]
  }
 ],
 "metadata": {
  "kernelspec": {
   "display_name": "Python 3.8.13 ('base')",
   "language": "python",
   "name": "python3"
  },
  "language_info": {
   "codemirror_mode": {
    "name": "ipython",
    "version": 3
   },
   "file_extension": ".py",
   "mimetype": "text/x-python",
   "name": "python",
   "nbconvert_exporter": "python",
   "pygments_lexer": "ipython3",
   "version": "3.8.13"
  },
  "vscode": {
   "interpreter": {
    "hash": "585a938ec471c889bf0cce0aed741a99eaf47ca09c0fa8393793bc5bfe77ba11"
   }
  }
 },
 "nbformat": 4,
 "nbformat_minor": 5
}
